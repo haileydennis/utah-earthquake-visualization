{
 "cells": [
  {
   "cell_type": "code",
   "execution_count": 1,
   "id": "2385826e",
   "metadata": {},
   "outputs": [],
   "source": [
    "%matplotlib notebook\n",
    "\n",
    "import matplotlib.pyplot as plt\n",
    "import numpy as np\n",
    "from ipywidgets import *\n",
    "import pyvista as pv\n",
    "from matplotlib.colors import ListedColormap"
   ]
  },
  {
   "cell_type": "code",
   "execution_count": 2,
   "id": "b6519632",
   "metadata": {
    "scrolled": true
   },
   "outputs": [
    {
     "data": {
      "text/html": [
       "<table><tr><th>Header</th><th>Data Arrays</th></tr><tr><td>\n",
       "<table>\n",
       "<tr><th>PolyData</th><th>Information</th></tr>\n",
       "<tr><td>N Cells</td><td>1</td></tr>\n",
       "<tr><td>N Points</td><td>31909</td></tr>\n",
       "<tr><td>N Strips</td><td>0</td></tr>\n",
       "<tr><td>X Bounds</td><td>-1.272e+07, -1.211e+07</td></tr>\n",
       "<tr><td>Y Bounds</td><td>4.404e+06, 5.236e+06</td></tr>\n",
       "<tr><td>Z Bounds</td><td>-9.990e+00, 6.628e+00</td></tr>\n",
       "<tr><td>N Arrays</td><td>31</td></tr>\n",
       "</table>\n",
       "\n",
       "</td><td>\n",
       "<table>\n",
       "<tr><th>Name</th><th>Field</th><th>Type</th><th>N Comp</th><th>Min</th><th>Max</th></tr>\n",
       "<tr><td>X</td><td>Points</td><td>float64</td><td>1</td><td>-1.272e+07</td><td>-1.211e+07</td></tr>\n",
       "<tr><td>Y</td><td>Points</td><td>float64</td><td>1</td><td>4.404e+06</td><td>5.236e+06</td></tr>\n",
       "<tr><td>OBJECTID</td><td>Points</td><td>int32</td><td>1</td><td>1.000e+00</td><td>3.191e+04</td></tr>\n",
       "<tr><td>Mag</td><td>Points</td><td>float64</td><td>1</td><td>-9.990e+00</td><td>6.628e+00</td></tr>\n",
       "<tr><td>Long</td><td>Points</td><td>float64</td><td>1</td><td>-1.142e+02</td><td>-1.088e+02</td></tr>\n",
       "<tr><td>Lat</td><td>Points</td><td>float64</td><td>1</td><td>3.675e+01</td><td>4.250e+01</td></tr>\n",
       "<tr><td>Depth</td><td>Points</td><td>float64</td><td>1</td><td>-2.000e+00</td><td>9.050e+01</td></tr>\n",
       "<tr><td>Year</td><td>Points</td><td>int32</td><td>1</td><td>1.850e+03</td><td>2.016e+03</td></tr>\n",
       "<tr><td>Mo</td><td>Points</td><td>int32</td><td>1</td><td>1.000e+00</td><td>1.200e+01</td></tr>\n",
       "<tr><td>Day</td><td>Points</td><td>int32</td><td>1</td><td>1.000e+00</td><td>3.100e+01</td></tr>\n",
       "<tr><td>Hr</td><td>Points</td><td>int32</td><td>1</td><td>0.000e+00</td><td>2.300e+01</td></tr>\n",
       "<tr><td>Min_</td><td>Points</td><td>int32</td><td>1</td><td>0.000e+00</td><td>5.900e+01</td></tr>\n",
       "<tr><td>Sec</td><td>Points</td><td>float64</td><td>1</td><td>0.000e+00</td><td>5.999e+01</td></tr>\n",
       "<tr><td>SigM</td><td>Points</td><td>float64</td><td>1</td><td>0.000e+00</td><td>5.000e-01</td></tr>\n",
       "<tr><td>Round</td><td>Points</td><td>float64</td><td>1</td><td>0.000e+00</td><td>1.000e-01</td></tr>\n",
       "<tr><td>Mag_Type</td><td>Points</td><td><U10</td><td>1</td><td>nan</td><td>nan</td></tr>\n",
       "<tr><td>Epi_Qual</td><td>Points</td><td><U1</td><td>1</td><td>nan</td><td>nan</td></tr>\n",
       "<tr><td>Depth_Qual</td><td>Points</td><td><U1</td><td>1</td><td>nan</td><td>nan</td></tr>\n",
       "<tr><td>Depth_Chge</td><td>Points</td><td><U4</td><td>1</td><td>nan</td><td>nan</td></tr>\n",
       "<tr><td>EQ_Flag</td><td>Points</td><td><U1</td><td>1</td><td>nan</td><td>nan</td></tr>\n",
       "<tr><td>Source_Epi</td><td>Points</td><td><U3</td><td>1</td><td>nan</td><td>nan</td></tr>\n",
       "<tr><td>MAG_UU</td><td>Points</td><td><U5</td><td>1</td><td>nan</td><td>nan</td></tr>\n",
       "<tr><td>MAGUU_Flag</td><td>Points</td><td><U1</td><td>1</td><td>nan</td><td>nan</td></tr>\n",
       "<tr><td>ML_UU</td><td>Points</td><td><U5</td><td>1</td><td>nan</td><td>nan</td></tr>\n",
       "<tr><td>Mc_UU</td><td>Points</td><td><U5</td><td>1</td><td>nan</td><td>nan</td></tr>\n",
       "<tr><td>NPH</td><td>Points</td><td><U2</td><td>1</td><td>nan</td><td>nan</td></tr>\n",
       "<tr><td>GAP</td><td>Points</td><td><U3</td><td>1</td><td>nan</td><td>nan</td></tr>\n",
       "<tr><td>DMIN</td><td>Points</td><td><U5</td><td>1</td><td>nan</td><td>nan</td></tr>\n",
       "<tr><td>RMS</td><td>Points</td><td><U4</td><td>1</td><td>nan</td><td>nan</td></tr>\n",
       "<tr><td>ERH</td><td>Points</td><td><U5</td><td>1</td><td>nan</td><td>nan</td></tr>\n",
       "<tr><td>ERZ</td><td>Points</td><td><U5</td><td>1</td><td>nan</td><td>nan</td></tr>\n",
       "</table>\n",
       "\n",
       "</td></tr> </table>"
      ],
      "text/plain": [
       "PolyData (0x20173518700)\n",
       "  N Cells:    1\n",
       "  N Points:   31909\n",
       "  N Strips:   0\n",
       "  X Bounds:   -1.272e+07, -1.211e+07\n",
       "  Y Bounds:   4.404e+06, 5.236e+06\n",
       "  Z Bounds:   -9.990e+00, 6.628e+00\n",
       "  N Arrays:   31"
      ]
     },
     "execution_count": 2,
     "metadata": {},
     "output_type": "execute_result"
    }
   ],
   "source": [
    "earthquake_data = pv.read('earthquake_data.vtk')\n",
    "earthquake_data"
   ]
  },
  {
   "cell_type": "code",
   "execution_count": 20,
   "id": "8f8a4e3a",
   "metadata": {},
   "outputs": [],
   "source": [
    "def get_mesh_by_year(year):\n",
    "    lat_lng = []\n",
    "    mags = []\n",
    "    for i in range(len(earthquake_data.point_data['Lat'])):\n",
    "        if earthquake_data.point_data['Year'][i] == year:\n",
    "            lat_lng.append([earthquake_data.point_data['Long'][i], earthquake_data.point_data['Lat'][i], \n",
    "                        0])\n",
    "            mags.append(earthquake_data.point_data['Mag'][i])\n",
    "            \n",
    "    my_mesh = pv.UnstructuredGrid()\n",
    "    my_mesh.points = lat_lng\n",
    "    my_mesh.point_data[\"Mag\"] = mags\n",
    "    return my_mesh\n",
    "\n",
    "utah_corners = np_points = np.array([[-114.04172399259161, 41.99372594774304, 0.0], \n",
    "                      [-111.0466887774167, 42.0015686697003, 0.0],\n",
    "                      [-111.04673083487624, 40.997968805895084, 0.0],\n",
    "                      [-109.05007687780909, 41.000660502664616, 0.0],\n",
    "                      [-109.04522189716712, 36.999084296202696, 0.0],\n",
    "                      [-114.05060037628137, 37.00039575681357, 0.0]])"
   ]
  },
  {
   "cell_type": "code",
   "execution_count": 24,
   "id": "64cb7043",
   "metadata": {},
   "outputs": [],
   "source": [
    "def get_cmap(mesh):\n",
    "    c1 = np.array([0.99, 0.0, 0.0])\n",
    "    c2 = np.array([0.0, 0.99, 0.0])\n",
    "    c3 = np.array([0.0, 0.0, 0.99])\n",
    "    c4 = np.array([0.99, 0.99, 0.0])\n",
    "    c5 = np.array([0.99, 0.0, 0.99])\n",
    "    c6 = np.array([0.0, 0.99, 0.99])\n",
    "\n",
    "    mapping = np.linspace(my_mesh.point_data['Mag'].min(), my_mesh.point_data['Mag'].max(), 256)\n",
    "    mapping\n",
    "    new_colors = np.empty((256, 3))\n",
    "    new_colors[mapping >= 8.0] = c1\n",
    "    new_colors[mapping < 7.9] = c2\n",
    "    new_colors[mapping < 6.9] = c3\n",
    "    new_colors[mapping < 6.0] = c4\n",
    "    new_colors[mapping < 6.0] = c5\n",
    "    new_colors[mapping < 2.5] = c6\n",
    "\n",
    "    mag_classification_cmap = ListedColormap(new_colors)\n",
    "    mag_classification_cmap\n",
    "\n",
    "    lut = pv.LookupTable(cmap=mag_classification_cmap)\n",
    "    return lut"
   ]
  },
  {
   "cell_type": "code",
   "execution_count": null,
   "id": "4ef6e107",
   "metadata": {},
   "outputs": [],
   "source": [
    "my_mesh = get_mesh_by_year(2016)"
   ]
  },
  {
   "cell_type": "code",
   "execution_count": 18,
   "id": "7ea603c5",
   "metadata": {},
   "outputs": [
    {
     "data": {
      "application/vnd.jupyter.widget-view+json": {
       "model_id": "8fd4943e506a46fabff609efdbc4e89f",
       "version_major": 2,
       "version_minor": 0
      },
      "text/plain": [
       "Widget(value=\"<iframe src='http://localhost:55954/index.html?ui=P_0x2010d346280_7&reconnect=auto' style='width…"
      ]
     },
     "metadata": {},
     "output_type": "display_data"
    }
   ],
   "source": [
    "pl = pv.Plotter()\n",
    "\n",
    "outline_mesh = pv.PolyData(utah_corners)\n",
    "pl.add_mesh(outline_mesh, point_size=15)\n",
    "\n",
    "poly_line = pv.MultipleLines(points=utah_corners)\n",
    "pl.add_mesh(poly_line, line_width=2)\n",
    "\n",
    "line = pv.Line(pointa=utah_corners[0], pointb=utah_corners[5])\n",
    "pl.add_mesh(line, line_width=2, color='white')\n",
    "\n",
    "pl.add_mesh(my_mesh, point_size=2)\n",
    "\n",
    "ball = pv.Sphere(radius=0.05, theta_resolution=35, phi_resolution=35)\n",
    "mag_glyphs = my_mesh.glyph(geom=ball, orient=False, scale=\"Mag\")\n",
    "pl.add_mesh(mag_glyphs, cmap=lut)\n",
    "\n",
    "legend_entries = []\n",
    "legend_entries.append(['Usually not felt', c6])\n",
    "legend_entries.append(['Minor damage', c5])\n",
    "legend_entries.append(['Slight damage', c4])\n",
    "legend_entries.append(['Lots of damage', c3])\n",
    "legend_entries.append(['Serious damage', c2])\n",
    "legend_entries.append(['Destroys entire communities', c1])\n",
    "pl.add_legend(legend_entries)\n",
    "\n",
    "pl.show(cpos='xy')"
   ]
  },
  {
   "cell_type": "code",
   "execution_count": null,
   "id": "182d953f",
   "metadata": {},
   "outputs": [],
   "source": []
  }
 ],
 "metadata": {
  "kernelspec": {
   "display_name": "Python 3 (ipykernel)",
   "language": "python",
   "name": "python3"
  },
  "language_info": {
   "codemirror_mode": {
    "name": "ipython",
    "version": 3
   },
   "file_extension": ".py",
   "mimetype": "text/x-python",
   "name": "python",
   "nbconvert_exporter": "python",
   "pygments_lexer": "ipython3",
   "version": "3.9.13"
  }
 },
 "nbformat": 4,
 "nbformat_minor": 5
}
